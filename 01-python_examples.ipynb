{
 "cells": [
  {
   "cell_type": "code",
   "execution_count": 1,
   "id": "7455719d",
   "metadata": {},
   "outputs": [
    {
     "data": {
      "text/plain": [
       "1"
      ]
     },
     "execution_count": 1,
     "metadata": {},
     "output_type": "execute_result"
    }
   ],
   "source": [
    "a = 0\n",
    "a + True \n"
   ]
  },
  {
   "cell_type": "code",
   "execution_count": 2,
   "id": "b7e5f994",
   "metadata": {},
   "outputs": [
    {
     "data": {
      "text/plain": [
       "2334873839888"
      ]
     },
     "execution_count": 2,
     "metadata": {},
     "output_type": "execute_result"
    }
   ],
   "source": [
    "id(a)"
   ]
  },
  {
   "cell_type": "code",
   "execution_count": 3,
   "id": "9ef782a0",
   "metadata": {},
   "outputs": [],
   "source": [
    "l1 = []\n",
    "l11 = list()"
   ]
  },
  {
   "cell_type": "code",
   "execution_count": 5,
   "id": "183eb235",
   "metadata": {},
   "outputs": [
    {
     "data": {
      "text/plain": [
       "[1, 2, 3, 4]"
      ]
     },
     "execution_count": 5,
     "metadata": {},
     "output_type": "execute_result"
    }
   ],
   "source": [
    "l1 = [1,2,3,4]\n",
    "l1"
   ]
  },
  {
   "cell_type": "code",
   "execution_count": 7,
   "id": "6d4522c3",
   "metadata": {},
   "outputs": [
    {
     "data": {
      "text/plain": [
       "[1, 2, 3, 4, 10, 10]"
      ]
     },
     "execution_count": 7,
     "metadata": {},
     "output_type": "execute_result"
    }
   ],
   "source": [
    "l1.append(10)\n",
    "l1"
   ]
  },
  {
   "cell_type": "code",
   "execution_count": 8,
   "id": "bb978648",
   "metadata": {},
   "outputs": [
    {
     "data": {
      "text/plain": [
       "[1, 2, 3, 4, 10, 10, [...]]"
      ]
     },
     "execution_count": 8,
     "metadata": {},
     "output_type": "execute_result"
    }
   ],
   "source": [
    "l1.append(l1)\n",
    "l1"
   ]
  },
  {
   "cell_type": "code",
   "execution_count": 9,
   "id": "24943008",
   "metadata": {},
   "outputs": [
    {
     "data": {
      "text/plain": [
       "[1, 2, 3, 4, 10, 10, [...], 5, 6, 7]"
      ]
     },
     "execution_count": 9,
     "metadata": {},
     "output_type": "execute_result"
    }
   ],
   "source": [
    "l1.extend([5,6,7])\n",
    "l1"
   ]
  },
  {
   "cell_type": "code",
   "execution_count": 10,
   "id": "4d365c87",
   "metadata": {},
   "outputs": [
    {
     "data": {
      "text/plain": [
       "[1, 2, 3, 4, 10, 10, 5, 6, 7]"
      ]
     },
     "execution_count": 10,
     "metadata": {},
     "output_type": "execute_result"
    }
   ],
   "source": [
    "del l1[6]\n",
    "l1"
   ]
  },
  {
   "cell_type": "code",
   "execution_count": 11,
   "id": "b1e5b2be",
   "metadata": {},
   "outputs": [
    {
     "data": {
      "text/plain": [
       "1"
      ]
     },
     "execution_count": 11,
     "metadata": {},
     "output_type": "execute_result"
    }
   ],
   "source": [
    "l1 = [1,2,3,4,5,6,7,8,9]\n",
    "l1[0]"
   ]
  },
  {
   "cell_type": "code",
   "execution_count": 12,
   "id": "724222c5",
   "metadata": {},
   "outputs": [
    {
     "data": {
      "text/plain": [
       "9"
      ]
     },
     "execution_count": 12,
     "metadata": {},
     "output_type": "execute_result"
    }
   ],
   "source": [
    "l1[-1]"
   ]
  },
  {
   "cell_type": "code",
   "execution_count": 13,
   "id": "fd00ea20",
   "metadata": {},
   "outputs": [
    {
     "data": {
      "text/plain": [
       "[2, 3]"
      ]
     },
     "execution_count": 13,
     "metadata": {},
     "output_type": "execute_result"
    }
   ],
   "source": [
    "l1[1:3]"
   ]
  },
  {
   "cell_type": "code",
   "execution_count": 14,
   "id": "b2e2ad8a",
   "metadata": {},
   "outputs": [
    {
     "data": {
      "text/plain": [
       "[9, 7, 5, 3, 1]"
      ]
     },
     "execution_count": 14,
     "metadata": {},
     "output_type": "execute_result"
    }
   ],
   "source": [
    "l1[::-2]"
   ]
  },
  {
   "cell_type": "code",
   "execution_count": 15,
   "id": "373ef6d0",
   "metadata": {},
   "outputs": [
    {
     "data": {
      "text/plain": [
       "[5, 7, 9]"
      ]
     },
     "execution_count": 15,
     "metadata": {},
     "output_type": "execute_result"
    }
   ],
   "source": [
    "l1[::-2][2::-1]"
   ]
  },
  {
   "cell_type": "code",
   "execution_count": 16,
   "id": "c9afd8fc",
   "metadata": {},
   "outputs": [],
   "source": [
    "d1 = {}\n",
    "d1 = dict()"
   ]
  },
  {
   "cell_type": "code",
   "execution_count": 17,
   "id": "29353649",
   "metadata": {},
   "outputs": [
    {
     "data": {
      "text/plain": [
       "{'key1': 'value', 'key2': 10}"
      ]
     },
     "execution_count": 17,
     "metadata": {},
     "output_type": "execute_result"
    }
   ],
   "source": [
    "d1 = { 'key1':'value',\n",
    "     'key2':10}\n",
    "d1"
   ]
  },
  {
   "cell_type": "code",
   "execution_count": 18,
   "id": "85a5dac2",
   "metadata": {},
   "outputs": [
    {
     "data": {
      "text/plain": [
       "'value'"
      ]
     },
     "execution_count": 18,
     "metadata": {},
     "output_type": "execute_result"
    }
   ],
   "source": [
    "d1['key1']"
   ]
  },
  {
   "cell_type": "code",
   "execution_count": 19,
   "id": "8f8b1dd7",
   "metadata": {},
   "outputs": [
    {
     "data": {
      "text/plain": [
       "dict_items([('key1', 'value'), ('key2', 10)])"
      ]
     },
     "execution_count": 19,
     "metadata": {},
     "output_type": "execute_result"
    }
   ],
   "source": [
    "d1.items()"
   ]
  },
  {
   "cell_type": "code",
   "execution_count": 20,
   "id": "efd2d4e4",
   "metadata": {},
   "outputs": [
    {
     "data": {
      "text/plain": [
       "dict_keys(['key1', 'key2'])"
      ]
     },
     "execution_count": 20,
     "metadata": {},
     "output_type": "execute_result"
    }
   ],
   "source": [
    "d1.keys()"
   ]
  },
  {
   "cell_type": "code",
   "execution_count": 21,
   "id": "bd5d66e4",
   "metadata": {},
   "outputs": [
    {
     "data": {
      "text/plain": [
       "dict_values(['value', 10])"
      ]
     },
     "execution_count": 21,
     "metadata": {},
     "output_type": "execute_result"
    }
   ],
   "source": [
    "d1.values()"
   ]
  },
  {
   "cell_type": "code",
   "execution_count": 22,
   "id": "eca0f043",
   "metadata": {},
   "outputs": [],
   "source": [
    "str1 = \"\"\"\n",
    "this is a 'string'\n",
    "\"\"\""
   ]
  },
  {
   "cell_type": "code",
   "execution_count": 24,
   "id": "bde46b3a",
   "metadata": {},
   "outputs": [
    {
     "name": "stdout",
     "output_type": "stream",
     "text": [
      "2334957257872 2334956842096\n"
     ]
    }
   ],
   "source": [
    "str2 = 'test2'\n",
    "print(f'{id(str1)} {id(str2)}')"
   ]
  },
  {
   "cell_type": "code",
   "execution_count": 26,
   "id": "cc0e1110",
   "metadata": {},
   "outputs": [
    {
     "name": "stdout",
     "output_type": "stream",
     "text": [
      "2334956842096 2334956842096\n"
     ]
    }
   ],
   "source": [
    "str1 = 'test2'\n",
    "print(f'{id(str1)} {id(str2)}')"
   ]
  },
  {
   "cell_type": "code",
   "execution_count": 27,
   "id": "95ec73e6",
   "metadata": {},
   "outputs": [],
   "source": [
    "t = ()\n",
    "t = tuple()"
   ]
  },
  {
   "cell_type": "code",
   "execution_count": 29,
   "id": "d55b4fe5",
   "metadata": {},
   "outputs": [
    {
     "data": {
      "text/plain": [
       "(1, 2, 3)"
      ]
     },
     "execution_count": 29,
     "metadata": {},
     "output_type": "execute_result"
    }
   ],
   "source": [
    "t = (1,2,3)\n",
    "t"
   ]
  },
  {
   "cell_type": "code",
   "execution_count": 30,
   "id": "86624ca7",
   "metadata": {},
   "outputs": [
    {
     "data": {
      "text/plain": [
       "set"
      ]
     },
     "execution_count": 30,
     "metadata": {},
     "output_type": "execute_result"
    }
   ],
   "source": [
    "set1 = set()\n",
    "set2 = set()\n",
    "set1.add(1)\n",
    "set1.add(1)\n",
    "set1.add(2)\n",
    "set"
   ]
  },
  {
   "cell_type": "code",
   "execution_count": 31,
   "id": "4e4fb71d",
   "metadata": {},
   "outputs": [
    {
     "ename": "TypeError",
     "evalue": "unhashable type: 'set'",
     "output_type": "error",
     "traceback": [
      "\u001b[1;31m---------------------------------------------------------------------------\u001b[0m",
      "\u001b[1;31mTypeError\u001b[0m                                 Traceback (most recent call last)",
      "Cell \u001b[1;32mIn[31], line 1\u001b[0m\n\u001b[1;32m----> 1\u001b[0m \u001b[43mset1\u001b[49m\u001b[38;5;241;43m.\u001b[39;49m\u001b[43madd\u001b[49m\u001b[43m(\u001b[49m\u001b[43mset2\u001b[49m\u001b[43m)\u001b[49m\n",
      "\u001b[1;31mTypeError\u001b[0m: unhashable type: 'set'"
     ]
    }
   ],
   "source": [
    "set1.add(set2)"
   ]
  },
  {
   "cell_type": "code",
   "execution_count": 35,
   "id": "1015dd3a",
   "metadata": {},
   "outputs": [
    {
     "name": "stdout",
     "output_type": "stream",
     "text": [
      "Enter your number (1-100):50\n",
      "No. Smaller ...\n",
      "Enter your number (1-100):20\n",
      "No. Bigger ...\n",
      "Enter your number (1-100):35\n",
      "No. Bigger ...\n",
      "Enter your number (1-100):42\n",
      "No. Bigger ...\n",
      "Enter your number (1-100):46\n",
      "No. Bigger ...\n",
      "Enter your number (1-100):48\n",
      "Yeah. It is 48\n"
     ]
    }
   ],
   "source": [
    "#игра угадай число\n",
    "import random\n",
    "random.seed()\n",
    "a = random.randint(1,100)\n",
    "cnt = 0\n",
    "while cnt<10 :\n",
    "    b = int(input('Enter your number (1-100):'))\n",
    "    cnt += 1\n",
    "    if a > b :\n",
    "        print('No. Bigger ...')\n",
    "    elif a<b :\n",
    "        print('No. Smaller ...')\n",
    "    else:\n",
    "        break\n",
    "if a == b : \n",
    "    print(f'Yeah. It is {a}, {cnt} tries.')\n",
    "else:\n",
    "    print(f'No. It was {a}')\n",
    "    "
   ]
  },
  {
   "cell_type": "code",
   "execution_count": 36,
   "id": "1b45b23f",
   "metadata": {},
   "outputs": [
    {
     "data": {
      "text/plain": [
       "[]"
      ]
     },
     "execution_count": 36,
     "metadata": {},
     "output_type": "execute_result"
    }
   ],
   "source": [
    "import gc #сборщик мусора\n",
    "gc.garbage"
   ]
  },
  {
   "cell_type": "code",
   "execution_count": 37,
   "id": "1dc8d7ec",
   "metadata": {},
   "outputs": [
    {
     "data": {
      "text/plain": [
       "1551"
      ]
     },
     "execution_count": 37,
     "metadata": {},
     "output_type": "execute_result"
    }
   ],
   "source": [
    "gc.collect()"
   ]
  },
  {
   "cell_type": "code",
   "execution_count": 38,
   "id": "d492fa4f",
   "metadata": {},
   "outputs": [
    {
     "name": "stdout",
     "output_type": "stream",
     "text": [
      "  4           0 LOAD_GLOBAL              0 (print)\n",
      "              2 LOAD_CONST               1 ('hello world')\n",
      "              4 CALL_FUNCTION            1\n",
      "              6 POP_TOP\n",
      "              8 LOAD_CONST               0 (None)\n",
      "             10 RETURN_VALUE\n"
     ]
    }
   ],
   "source": [
    "import dis #дизассемблер\n",
    "\n",
    "def hello_world():\n",
    "    print('hello world')\n",
    "    \n",
    "dis.dis(hello_world)"
   ]
  },
  {
   "cell_type": "code",
   "execution_count": null,
   "id": "0ff29d43",
   "metadata": {},
   "outputs": [],
   "source": [
    "!python -m py_compile ./python/hello.py"
   ]
  },
  {
   "cell_type": "code",
   "execution_count": 39,
   "id": "219d7bd5",
   "metadata": {},
   "outputs": [
    {
     "ename": "SyntaxError",
     "evalue": "Missing parentheses in call to 'print'. Did you mean print(?)? (3088891877.py, line 1)",
     "output_type": "error",
     "traceback": [
      "\u001b[1;36m  Cell \u001b[1;32mIn[39], line 1\u001b[1;36m\u001b[0m\n\u001b[1;33m    print ?\u001b[0m\n\u001b[1;37m          ^\u001b[0m\n\u001b[1;31mSyntaxError\u001b[0m\u001b[1;31m:\u001b[0m Missing parentheses in call to 'print'. Did you mean print(?)?\n"
     ]
    }
   ],
   "source": [
    "print ?"
   ]
  },
  {
   "cell_type": "code",
   "execution_count": 1,
   "id": "02b26537",
   "metadata": {},
   "outputs": [],
   "source": [
    "#02.04.2024\n",
    "import builtins\n",
    "print = builtins.print"
   ]
  },
  {
   "cell_type": "code",
   "execution_count": 2,
   "id": "0056fb35-3134-45c8-aae6-eb63a0beef3b",
   "metadata": {},
   "outputs": [
    {
     "data": {
      "text/plain": [
       "10"
      ]
     },
     "execution_count": 2,
     "metadata": {},
     "output_type": "execute_result"
    }
   ],
   "source": [
    "def sum(*args):\n",
    "    result = 0\n",
    "    for i in args:\n",
    "        result += i\n",
    "    return result\n",
    "\n",
    "sum(2,2,2,2,2)"
   ]
  },
  {
   "cell_type": "code",
   "execution_count": 3,
   "id": "a1e5d78f-353d-4322-aee0-64a6d0990ab1",
   "metadata": {},
   "outputs": [
    {
     "data": {
      "text/plain": [
       "4"
      ]
     },
     "execution_count": 3,
     "metadata": {},
     "output_type": "execute_result"
    }
   ],
   "source": [
    "def sum(a,b, *args):\n",
    "    result = a + b\n",
    "    for i in args:\n",
    "        result += i\n",
    "    return result\n",
    "\n",
    "sum(2,2)"
   ]
  },
  {
   "cell_type": "code",
   "execution_count": 4,
   "id": "a25f30e6-6c70-40f0-bfc5-62afb06345dc",
   "metadata": {},
   "outputs": [
    {
     "data": {
      "text/plain": [
       "8"
      ]
     },
     "execution_count": 4,
     "metadata": {},
     "output_type": "execute_result"
    }
   ],
   "source": [
    "sum(2,2,2,2)"
   ]
  },
  {
   "cell_type": "code",
   "execution_count": 8,
   "id": "1923da61-8906-44f0-a631-f76f06200ce8",
   "metadata": {},
   "outputs": [
    {
     "ename": "TypeError",
     "evalue": "sum() got multiple values for argument 'b'",
     "output_type": "error",
     "traceback": [
      "\u001b[0;31m---------------------------------------------------------------------------\u001b[0m",
      "\u001b[0;31mTypeError\u001b[0m                                 Traceback (most recent call last)",
      "Cell \u001b[0;32mIn[8], line 1\u001b[0m\n\u001b[0;32m----> 1\u001b[0m \u001b[38;5;28;43msum\u001b[39;49m\u001b[43m(\u001b[49m\u001b[43mb\u001b[49m\u001b[38;5;241;43m=\u001b[39;49m\u001b[38;5;241;43m3\u001b[39;49m\u001b[43m,\u001b[49m\u001b[43m \u001b[49m\u001b[43ma\u001b[49m\u001b[38;5;241;43m=\u001b[39;49m\u001b[38;5;241;43m2\u001b[39;49m\u001b[43m,\u001b[49m\u001b[43m \u001b[49m\u001b[38;5;241;43m*\u001b[39;49m\u001b[43m[\u001b[49m\u001b[38;5;241;43m1\u001b[39;49m\u001b[43m,\u001b[49m\u001b[38;5;241;43m2\u001b[39;49m\u001b[43m]\u001b[49m\u001b[43m)\u001b[49m\n",
      "\u001b[0;31mTypeError\u001b[0m: sum() got multiple values for argument 'b'"
     ]
    }
   ],
   "source": [
    "sum(b=3, a=2, )"
   ]
  },
  {
   "cell_type": "code",
   "execution_count": 10,
   "id": "9c78ab09-5e60-4a61-8f18-834f759d195e",
   "metadata": {},
   "outputs": [
    {
     "data": {
      "text/plain": [
       "10"
      ]
     },
     "execution_count": 10,
     "metadata": {},
     "output_type": "execute_result"
    }
   ],
   "source": [
    "def sum(*args,a,b):\n",
    "    result = a + b\n",
    "    for i in args:\n",
    "        result += i\n",
    "    return result\n",
    "\n",
    "sum(5, b=3, a=2)"
   ]
  },
  {
   "cell_type": "code",
   "execution_count": 11,
   "id": "7733c224-1595-4538-9c81-12be7c3086cb",
   "metadata": {},
   "outputs": [
    {
     "ename": "TypeError",
     "evalue": "sum() missing 2 required keyword-only arguments: 'a' and 'b'",
     "output_type": "error",
     "traceback": [
      "\u001b[0;31m---------------------------------------------------------------------------\u001b[0m",
      "\u001b[0;31mTypeError\u001b[0m                                 Traceback (most recent call last)",
      "Cell \u001b[0;32mIn[11], line 1\u001b[0m\n\u001b[0;32m----> 1\u001b[0m \u001b[38;5;28;43msum\u001b[39;49m\u001b[43m(\u001b[49m\u001b[38;5;241;43m2\u001b[39;49m\u001b[43m,\u001b[49m\u001b[38;5;241;43m2\u001b[39;49m\u001b[43m)\u001b[49m\n",
      "\u001b[0;31mTypeError\u001b[0m: sum() missing 2 required keyword-only arguments: 'a' and 'b'"
     ]
    }
   ],
   "source": [
    "sum(2,2)"
   ]
  },
  {
   "cell_type": "code",
   "execution_count": 12,
   "id": "b7c70e56-7b70-4c4a-bf95-d136f5534a23",
   "metadata": {},
   "outputs": [
    {
     "name": "stdout",
     "output_type": "stream",
     "text": [
      "******************************\n",
      "Zagolovok\n",
      "******************************\n",
      "Chapter 1\n",
      "******************************\n"
     ]
    }
   ],
   "source": [
    "print = builtins.print\n",
    "def pr_print(header, text, border = '*'):\n",
    "    print(border*30)\n",
    "    print(header)\n",
    "    print(border*30)\n",
    "    print(text)\n",
    "    print(border*30)\n",
    "\n",
    "pr_print(header='Zagolovok', text='Chapter 1')"
   ]
  },
  {
   "cell_type": "code",
   "execution_count": 14,
   "id": "21e34642-3696-454e-a448-968d9daefe28",
   "metadata": {},
   "outputs": [
    {
     "ename": "SyntaxError",
     "evalue": "positional argument follows keyword argument (2991858478.py, line 8)",
     "output_type": "error",
     "traceback": [
      "\u001b[0;36m  Cell \u001b[0;32mIn[14], line 8\u001b[0;36m\u001b[0m\n\u001b[0;31m    pr_print(header='Zagolovok', text='Chapter 1','-')\u001b[0m\n\u001b[0m                                                     ^\u001b[0m\n\u001b[0;31mSyntaxError\u001b[0m\u001b[0;31m:\u001b[0m positional argument follows keyword argument\n"
     ]
    }
   ],
   "source": [
    "def pr_print(header, text, /, border = '*'):\n",
    "    print(border*30)\n",
    "    print(header)\n",
    "    print(border*30)\n",
    "    print(text)\n",
    "    print(border*30)\n",
    "\n",
    "pr_print(header='Zagolovok', text='Chapter 1','-')\n"
   ]
  },
  {
   "cell_type": "code",
   "execution_count": 15,
   "id": "6b6d1693-5c47-4763-8b14-b9a13f419cdc",
   "metadata": {},
   "outputs": [
    {
     "ename": "SyntaxError",
     "evalue": "positional argument follows keyword argument (86762668.py, line 8)",
     "output_type": "error",
     "traceback": [
      "\u001b[0;36m  Cell \u001b[0;32mIn[15], line 8\u001b[0;36m\u001b[0m\n\u001b[0;31m    pr_print(header='Zagolovok', text='Chapter 1','-',epilog='epitext', prolog='protext')\u001b[0m\n\u001b[0m                                                                                        ^\u001b[0m\n\u001b[0;31mSyntaxError\u001b[0m\u001b[0;31m:\u001b[0m positional argument follows keyword argument\n"
     ]
    }
   ],
   "source": [
    "def pr_print(header, text, /, border = '*', *,epilog, prolog):\n",
    "    print(border*30)\n",
    "    print(header)\n",
    "    print(border*30)\n",
    "    print(text)\n",
    "    print(border*30)\n",
    "\n",
    "pr_print(header='Zagolovok', text='Chapter 1','-',epilog='epitext', prolog='protext')\n"
   ]
  },
  {
   "cell_type": "code",
   "execution_count": 17,
   "id": "a30d96fd-7778-425a-8bc0-2259cc066a7a",
   "metadata": {},
   "outputs": [
    {
     "ename": "SyntaxError",
     "evalue": "positional argument follows keyword argument (2629316896.py, line 8)",
     "output_type": "error",
     "traceback": [
      "\u001b[0;36m  Cell \u001b[0;32mIn[17], line 8\u001b[0;36m\u001b[0m\n\u001b[0;31m    pr_print(header='Zagolovok', text='Chapter 1','-',epilog='epitext', prolog='protext')\u001b[0m\n\u001b[0m                                                                                        ^\u001b[0m\n\u001b[0;31mSyntaxError\u001b[0m\u001b[0;31m:\u001b[0m positional argument follows keyword argument\n"
     ]
    }
   ],
   "source": [
    "def pr_print(header, text, /, border = '*', *,epilog, prolog,**kwargs):\n",
    "    print(border*30)\n",
    "    print(header)\n",
    "    print(border*30)\n",
    "    print(text)\n",
    "    print(border*30)\n",
    "\n",
    "pr_print(header='Zagolovok', text='Chapter 1','-',epilog='epitext', prolog='protext')\n"
   ]
  },
  {
   "cell_type": "code",
   "execution_count": 18,
   "id": "5535ae3d-2404-4bdd-b086-2e1acfc7b725",
   "metadata": {},
   "outputs": [
    {
     "data": {
      "text/plain": [
       "[1, 2, 3, 4]"
      ]
     },
     "execution_count": 18,
     "metadata": {},
     "output_type": "execute_result"
    }
   ],
   "source": [
    "def add_to_list(el, l=[]): # argument po umolchaniyu vychisljaetsja edinozhdy\n",
    "    l.append(el)\n",
    "    return l\n",
    "\n",
    "l1 = [1,2,3]\n",
    "add_to_list(4,l1)\n",
    "l1"
   ]
  },
  {
   "cell_type": "code",
   "execution_count": 19,
   "id": "4f4e5011-06ef-4de1-9ca3-5c9ea8b8bac9",
   "metadata": {},
   "outputs": [
    {
     "data": {
      "text/plain": [
       "[1]"
      ]
     },
     "execution_count": 19,
     "metadata": {},
     "output_type": "execute_result"
    }
   ],
   "source": [
    "l2 = add_to_list(1)\n",
    "l2"
   ]
  },
  {
   "cell_type": "code",
   "execution_count": 20,
   "id": "4d06cf48-68b0-43aa-ad08-9c9e3df34080",
   "metadata": {},
   "outputs": [
    {
     "data": {
      "text/plain": [
       "[1, 1]"
      ]
     },
     "execution_count": 20,
     "metadata": {},
     "output_type": "execute_result"
    }
   ],
   "source": [
    "l3 = add_to_list(1)\n",
    "l3"
   ]
  },
  {
   "cell_type": "code",
   "execution_count": 21,
   "id": "f0da627c-0a8c-477b-aee1-6d1742355128",
   "metadata": {},
   "outputs": [
    {
     "data": {
      "text/plain": [
       "'Built-in mutable sequence.\\n\\nIf no argument is given, the constructor creates a new empty list.\\nThe argument must be an iterable if specified.'"
      ]
     },
     "execution_count": 21,
     "metadata": {},
     "output_type": "execute_result"
    }
   ],
   "source": [
    "l3.__doc__"
   ]
  },
  {
   "cell_type": "code",
   "execution_count": 22,
   "id": "752fb989-48b4-43ad-80a6-54a2cd938936",
   "metadata": {},
   "outputs": [
    {
     "data": {
      "text/plain": [
       "[1, 2, 3, 4]"
      ]
     },
     "execution_count": 22,
     "metadata": {},
     "output_type": "execute_result"
    }
   ],
   "source": [
    "def add_to_list(el, l=[]):  \n",
    "    if not l:\n",
    "        l = list()\n",
    "    l.append(el)\n",
    "    return l\n",
    "\n",
    "l1 = [1,2,3]\n",
    "add_to_list(4,l1)\n",
    "l1"
   ]
  },
  {
   "cell_type": "code",
   "execution_count": 23,
   "id": "9331d9f0-d373-4538-99e9-be03b0b018d7",
   "metadata": {},
   "outputs": [
    {
     "data": {
      "text/plain": [
       "[1]"
      ]
     },
     "execution_count": 23,
     "metadata": {},
     "output_type": "execute_result"
    }
   ],
   "source": [
    "l2 = add_to_list(1)\n",
    "l2"
   ]
  },
  {
   "cell_type": "code",
   "execution_count": 24,
   "id": "88581b93-5b4c-4f8c-8aaa-1aab79295586",
   "metadata": {},
   "outputs": [
    {
     "data": {
      "text/plain": [
       "[1]"
      ]
     },
     "execution_count": 24,
     "metadata": {},
     "output_type": "execute_result"
    }
   ],
   "source": [
    "l3 = add_to_list(1)\n",
    "l3"
   ]
  },
  {
   "cell_type": "code",
   "execution_count": 25,
   "id": "34d7f46c-9ab5-446c-9ac7-cd435b72932d",
   "metadata": {},
   "outputs": [
    {
     "data": {
      "text/plain": [
       "'test'"
      ]
     },
     "execution_count": 25,
     "metadata": {},
     "output_type": "execute_result"
    }
   ],
   "source": [
    "def mutate_string(s):\n",
    "    s= s + 'mutated'\n",
    "    \n",
    "s = 'test'\n",
    "mutate_string(s)\n",
    "s"
   ]
  },
  {
   "cell_type": "code",
   "execution_count": 27,
   "id": "deca2fee-5944-4e56-8e9b-365896c23839",
   "metadata": {},
   "outputs": [
    {
     "name": "stdout",
     "output_type": "stream",
     "text": [
      "0\n",
      "1\n",
      "2\n",
      "3\n",
      "4\n",
      "5\n",
      "6\n",
      "7\n",
      "8\n",
      "9\n"
     ]
    }
   ],
   "source": [
    "def get_list():\n",
    "    return list(range(10))\n",
    "\n",
    "for i in get_list():\n",
    "    print(i)"
   ]
  },
  {
   "cell_type": "code",
   "execution_count": 28,
   "id": "e0aa603e-d0f4-4204-a592-a85d6dcfc4bd",
   "metadata": {},
   "outputs": [
    {
     "name": "stdout",
     "output_type": "stream",
     "text": [
      "0\n",
      "1\n",
      "2\n",
      "3\n",
      "4\n",
      "5\n",
      "6\n",
      "7\n",
      "8\n",
      "9\n"
     ]
    }
   ],
   "source": [
    "def gen():\n",
    "    for i in range(10):\n",
    "        yield i\n",
    "\n",
    "for i in gen():\n",
    "    print(i)\n",
    "    "
   ]
  },
  {
   "cell_type": "code",
   "execution_count": 29,
   "id": "f921592a-7ea0-45a5-9263-928e09d16232",
   "metadata": {},
   "outputs": [
    {
     "name": "stdout",
     "output_type": "stream",
     "text": [
      "0 is str\n",
      "1\n",
      "2 is str\n",
      "3\n",
      "4 is str\n",
      "5\n",
      "6 is str\n",
      "7\n",
      "8 is str\n",
      "9\n"
     ]
    }
   ],
   "source": [
    "def gen():\n",
    "    for i in range(10):\n",
    "        if i % 2 == 0:\n",
    "            yield str(i) + ' is str'\n",
    "        else:\n",
    "            yield i\n",
    "\n",
    "for i in gen():\n",
    "    print(i)"
   ]
  },
  {
   "cell_type": "code",
   "execution_count": 32,
   "id": "1cf8cc0a-b345-44ab-a795-05ce84829456",
   "metadata": {},
   "outputs": [
    {
     "name": "stdout",
     "output_type": "stream",
     "text": [
      "4\n"
     ]
    }
   ],
   "source": [
    "# zamykanija\n",
    "def my_func(x):\n",
    "    def my_inner_func():\n",
    "        print(x)\n",
    "    my_inner_func()\n",
    "\n",
    "my_func(4)"
   ]
  },
  {
   "cell_type": "code",
   "execution_count": 33,
   "id": "084da33c-b2eb-47db-b9d0-da6346614241",
   "metadata": {},
   "outputs": [
    {
     "name": "stdout",
     "output_type": "stream",
     "text": [
      "6\n"
     ]
    }
   ],
   "source": [
    "my_func(6)"
   ]
  },
  {
   "cell_type": "code",
   "execution_count": 34,
   "id": "fcbfaedd-f0b9-40bf-aade-f024c88ac952",
   "metadata": {},
   "outputs": [
    {
     "name": "stdout",
     "output_type": "stream",
     "text": [
      "4\n"
     ]
    }
   ],
   "source": [
    "def my_func(x):\n",
    "    def my_inner_func():\n",
    "        print(x)\n",
    "    my_inner_func()\n",
    "    return my_inner_func\n",
    "\n",
    "func1 = my_func(4)"
   ]
  },
  {
   "cell_type": "code",
   "execution_count": 35,
   "id": "858b261d-fa76-4afa-92fb-a6ffd67bca4a",
   "metadata": {},
   "outputs": [
    {
     "name": "stdout",
     "output_type": "stream",
     "text": [
      "6\n"
     ]
    }
   ],
   "source": [
    "func2 = my_func(6)"
   ]
  },
  {
   "cell_type": "code",
   "execution_count": 36,
   "id": "02cf901a-6d46-4e2c-b24d-15c7934d8298",
   "metadata": {},
   "outputs": [
    {
     "name": "stdout",
     "output_type": "stream",
     "text": [
      "4\n"
     ]
    }
   ],
   "source": [
    "func1()"
   ]
  },
  {
   "cell_type": "code",
   "execution_count": 37,
   "id": "80789e51-6342-49c7-87b4-416c63bb7cba",
   "metadata": {},
   "outputs": [
    {
     "name": "stdout",
     "output_type": "stream",
     "text": [
      "6\n"
     ]
    }
   ],
   "source": [
    "func2()"
   ]
  },
  {
   "cell_type": "code",
   "execution_count": 38,
   "id": "18739e55-89df-4c59-8c41-506221bd9bcf",
   "metadata": {},
   "outputs": [
    {
     "name": "stdout",
     "output_type": "stream",
     "text": [
      "4\n"
     ]
    },
    {
     "ename": "TypeError",
     "evalue": "my_func.<locals>.my_inner_func() takes 0 positional arguments but 1 was given",
     "output_type": "error",
     "traceback": [
      "\u001b[0;31m---------------------------------------------------------------------------\u001b[0m",
      "\u001b[0;31mTypeError\u001b[0m                                 Traceback (most recent call last)",
      "Cell \u001b[0;32mIn[38], line 1\u001b[0m\n\u001b[0;32m----> 1\u001b[0m \u001b[43mfunc2\u001b[49m\u001b[43m(\u001b[49m\u001b[43mfunc1\u001b[49m\u001b[43m(\u001b[49m\u001b[43m)\u001b[49m\u001b[43m)\u001b[49m\n",
      "\u001b[0;31mTypeError\u001b[0m: my_func.<locals>.my_inner_func() takes 0 positional arguments but 1 was given"
     ]
    }
   ],
   "source": [
    "#dekoratory\n",
    "import functoos\n",
    "#args = '123'\n",
    "#123\n",
    "#result = None\n",
    "print('123')"
   ]
  },
  {
   "cell_type": "code",
   "execution_count": 40,
   "id": "8b36cf0d-4fef-43ba-aada-df9c560b5602",
   "metadata": {},
   "outputs": [],
   "source": [
    "import functools\n",
    "\n",
    "def print_args(func):\n",
    "    @functools.wraps(func)\n",
    "    def wrapper(*args,**kwargs):\n",
    "        print(f'args={args}')\n",
    "        print(f'kwargs={kwargs}')\n",
    "        result = func(*args, **kwargs)\n",
    "        print(f'result={result}')\n",
    "        return result\n",
    "    return wrapper\n",
    "        \n",
    "\n",
    "#args = '1' '2'\n",
    "#Logic\n",
    "#result = 3\n",
    "@print_args\n",
    "def sum(a,b):\n",
    "    return a+b"
   ]
  },
  {
   "cell_type": "code",
   "execution_count": 41,
   "id": "031d14df-aed7-490b-9240-02aad9739eac",
   "metadata": {},
   "outputs": [
    {
     "name": "stdout",
     "output_type": "stream",
     "text": [
      "args=(1, 2)\n",
      "kwargs={}\n",
      "result=3\n"
     ]
    },
    {
     "data": {
      "text/plain": [
       "3"
      ]
     },
     "execution_count": 41,
     "metadata": {},
     "output_type": "execute_result"
    }
   ],
   "source": [
    "sum(1,2)"
   ]
  },
  {
   "cell_type": "code",
   "execution_count": 42,
   "id": "ea507b1d-d852-443c-8b40-8161ddc06703",
   "metadata": {},
   "outputs": [
    {
     "ename": "NameError",
     "evalue": "name 'sum_list' is not defined",
     "output_type": "error",
     "traceback": [
      "\u001b[0;31m---------------------------------------------------------------------------\u001b[0m",
      "\u001b[0;31mNameError\u001b[0m                                 Traceback (most recent call last)",
      "Cell \u001b[0;32mIn[42], line 18\u001b[0m\n\u001b[1;32m     11\u001b[0m     \u001b[38;5;28;01mreturn\u001b[39;00m wrapper\n\u001b[1;32m     14\u001b[0m \u001b[38;5;66;03m#args = '1' '2'\u001b[39;00m\n\u001b[1;32m     15\u001b[0m \u001b[38;5;66;03m#Logic\u001b[39;00m\n\u001b[1;32m     16\u001b[0m \u001b[38;5;66;03m#result = 3\u001b[39;00m\n\u001b[1;32m     17\u001b[0m \u001b[38;5;129m@print_args\u001b[39m\n\u001b[0;32m---> 18\u001b[0m \u001b[38;5;129m@sum_list\u001b[39m \u001b[38;5;66;03m# realizovat dekorator kotory budet skladyvat dva spiska\u001b[39;00m\n\u001b[1;32m     19\u001b[0m \u001b[38;5;28;01mdef\u001b[39;00m \u001b[38;5;21msum\u001b[39m(a,b):\n\u001b[1;32m     20\u001b[0m     \u001b[38;5;28;01mreturn\u001b[39;00m a\u001b[38;5;241m+\u001b[39mb\n",
      "\u001b[0;31mNameError\u001b[0m: name 'sum_list' is not defined"
     ]
    }
   ],
   "source": [
    "import functools\n",
    "\n",
    "def print_args(func):\n",
    "    @functools.wraps(func)\n",
    "    def wrapper(*args,**kwargs):\n",
    "        print(f'args={args}')\n",
    "        print(f'kwargs={kwargs}')\n",
    "        result = func(*args, **kwargs)\n",
    "        print(f'result={result}')\n",
    "        return result\n",
    "    return wrapper\n",
    "        \n",
    "def sum_list(func): # Maxim Stupin\n",
    "    @function.wraps(func)\n",
    "    def wrapper(*args, **kwargs):\n",
    "        result = [0 for add in args[0]]\n",
    "        for arg in args:\n",
    "            for i,add in enumerate(arg):\n",
    "                result[i] += add\n",
    "            return result\n",
    "        return wrapper\n",
    "\n",
    "#args = '1' '2'\n",
    "#Logic\n",
    "#result = 3\n",
    "@print_args\n",
    "@sum_list # realizovat dekorator kotory budet skladyvat dva spiska sum([1,2,3],[1,2,3])  => 2,4,6\n",
    "def sum(a,b):\n",
    "    return a+b"
   ]
  },
  {
   "cell_type": "code",
   "execution_count": 51,
   "id": "42e9c53a-5003-4ae7-b0b0-d97be4b52b87",
   "metadata": {},
   "outputs": [
    {
     "name": "stdout",
     "output_type": "stream",
     "text": [
      "[2, 4] \n",
      " [2, 4, 3]\n"
     ]
    }
   ],
   "source": [
    "a = [1,2,3]\n",
    "b = [1,2,]\n",
    "c = list(map(lambda x, y: x + y, a, b))\n",
    "c1 = [x+y for x,y in zip(a,b)] + (a if len(a) >= len(b) else b)[min(len(a), len(b)):]\n",
    "print(c,'\\n',c1)\n"
   ]
  },
  {
   "cell_type": "code",
   "execution_count": 54,
   "id": "3d7e20ff-beef-4965-b896-5dde6ffecb11",
   "metadata": {},
   "outputs": [],
   "source": [
    "def sum_list(func): # prepod \n",
    "    @functools.wraps(func)\n",
    "    def wrapper(*args,**kwargs):\n",
    "        if len(args) != 2:\n",
    "            raise ValueError('Must be 2 lists in args')\n",
    "        \n",
    "        if type(args[0]) == int:\n",
    "            return func(*args,**kwargs)\n",
    "        if len(args[0]) != len(args[1]):\n",
    "            raise ValueError('Lists has different length')\n",
    "        c = list()    \n",
    "        for x in range(0,len(args[0])):\n",
    "            c.append(args[0][x] + args[1][x])\n",
    "        return c\n",
    "    return wrapper\n",
    "\n",
    "@sum_list # realizovat dekorator kotory budet skladyvat dva spiska sum([1,2,3],[1,2,3])  => 2,4,6\n",
    "def sum(a,b):\n",
    "    return a+b"
   ]
  },
  {
   "cell_type": "code",
   "execution_count": 55,
   "id": "5ce747dd-faf6-4383-9728-a80626f000c2",
   "metadata": {},
   "outputs": [
    {
     "data": {
      "text/plain": [
       "5"
      ]
     },
     "execution_count": 55,
     "metadata": {},
     "output_type": "execute_result"
    }
   ],
   "source": [
    "sum(2,3)"
   ]
  },
  {
   "cell_type": "code",
   "execution_count": 61,
   "id": "d0bd6f1b-52a9-4d02-bf5f-7b02b950f128",
   "metadata": {},
   "outputs": [],
   "source": [
    "def sum_list(func): # prepod ver 2\n",
    "    @functools.wraps(func)\n",
    "    def wrapper(*args,**kwargs):\n",
    "        if len(args) != 2:\n",
    "            raise ValueError('Must be 2 lists in args')\n",
    "        \n",
    "        if type(args[0]) == int:\n",
    "            return func(*args,**kwargs)\n",
    "        if len(args[0]) != len(args[1]):\n",
    "            raise ValueError('Lists has different length')\n",
    "        c = list()    \n",
    "        for x in range(0,len(args[0])):\n",
    "            c.append(func(args[0][x],args[1][x]))\n",
    "        return c\n",
    "    return wrapper\n",
    "\n",
    "@sum_list # realizovat dekorator kotory budet skladyvat dva spiska sum([1,2,3],[1,2,3])  => 2,4,6\n",
    "def sum(a,b):\n",
    "    return a+b"
   ]
  },
  {
   "cell_type": "code",
   "execution_count": 62,
   "id": "a5e94885-7001-40bf-bf24-674443381fe0",
   "metadata": {},
   "outputs": [
    {
     "data": {
      "text/plain": [
       "[5, 7, 9]"
      ]
     },
     "execution_count": 62,
     "metadata": {},
     "output_type": "execute_result"
    }
   ],
   "source": [
    "sum([1,2,3],[4,5,6])"
   ]
  },
  {
   "cell_type": "code",
   "execution_count": 63,
   "id": "1f5d9b72-2d1f-40d7-9a0b-228d121f3339",
   "metadata": {},
   "outputs": [
    {
     "data": {
      "text/plain": [
       "[1, 4, 20]"
      ]
     },
     "execution_count": 63,
     "metadata": {},
     "output_type": "execute_result"
    }
   ],
   "source": [
    "@sum_list\n",
    "def multik(a,b):\n",
    "    return a*b\n",
    "multik([1,2,5],[1,2,4])"
   ]
  },
  {
   "cell_type": "code",
   "execution_count": 65,
   "id": "6f425436-8de5-4a04-90d7-f86a5411f120",
   "metadata": {},
   "outputs": [
    {
     "data": {
      "text/plain": [
       "3"
      ]
     },
     "execution_count": 65,
     "metadata": {},
     "output_type": "execute_result"
    }
   ],
   "source": [
    "import time\n",
    "\n",
    "def my_cache(func):\n",
    "    cache = {} # cache predyduschix vyzovov \n",
    "    @functools.wraps(func)\n",
    "    def wrapper(*args,**kwargs):\n",
    "        cache_key = args + tuple(kwargs.items())\n",
    "        if cache_key not in cache:\n",
    "            cache[cache_key] = func(*args,**kwargs)   #1:55\n",
    "            return cache(*args,**kwargs)\n",
    "    return wrapper\n",
    "\n",
    "@my_cache\n",
    "def sum_long(a,b):\n",
    "    time.sleep(10)\n",
    "    return a+b\n",
    "\n",
    "sum_long(1,2)"
   ]
  },
  {
   "cell_type": "code",
   "execution_count": 66,
   "id": "cc7983e2-d51e-4104-87c7-fd02211e8fbc",
   "metadata": {},
   "outputs": [
    {
     "data": {
      "text/plain": [
       "3"
      ]
     },
     "execution_count": 66,
     "metadata": {},
     "output_type": "execute_result"
    }
   ],
   "source": [
    "sum_long(1,2)"
   ]
  },
  {
   "cell_type": "code",
   "execution_count": null,
   "id": "2667cc4b-8104-4525-9c7e-38c815f2d058",
   "metadata": {},
   "outputs": [],
   "source": [
    "import time # variant prepoda\n",
    "\n",
    "def my_cache(func):\n",
    "    cache = {}\n",
    "    @functools.wraps(func)\n",
    "    def wrapper(*args, **kwargs):\n",
    "        cache_key = args + tuple(kwargs.items())\n",
    "        if cache_key not in cache:\n",
    "            cache[cache_key] = func(*args, **kwargs)\n",
    "        return cache[cache_key]\n",
    "    return wrapper\n",
    "\n",
    "@my_cache\n",
    "def my_print():\n",
    "    time.sleep(10)\n",
    "    return 100\n",
    "\n",
    "@my_cache\n",
    "def sum_long(a,b):\n",
    "    time.sleep(10)\n",
    "    return a+b\n",
    "\n",
    "sum_long(1,2)\n"
   ]
  },
  {
   "cell_type": "code",
   "execution_count": 67,
   "id": "2a4b047f-dfe5-437a-874f-7312c64d995f",
   "metadata": {},
   "outputs": [
    {
     "data": {
      "text/plain": [
       "25"
      ]
     },
     "execution_count": 67,
     "metadata": {},
     "output_type": "execute_result"
    }
   ],
   "source": [
    "square = lambda x: x**2\n",
    "\n",
    "square(5)"
   ]
  },
  {
   "cell_type": "code",
   "execution_count": 68,
   "id": "6dfc8ebe-2986-4240-8e84-fd13235ab1f8",
   "metadata": {},
   "outputs": [
    {
     "data": {
      "text/plain": [
       "42"
      ]
     },
     "execution_count": 68,
     "metadata": {},
     "output_type": "execute_result"
    }
   ],
   "source": [
    "no_params = lambda: 42\n",
    "no_params()"
   ]
  },
  {
   "cell_type": "code",
   "execution_count": 69,
   "id": "54ee28d0-876f-4c00-854e-d5cb04260e00",
   "metadata": {},
   "outputs": [
    {
     "data": {
      "text/plain": [
       "4"
      ]
     },
     "execution_count": 69,
     "metadata": {},
     "output_type": "execute_result"
    }
   ],
   "source": [
    "sum = lambda x,y: x+y\n",
    "sum(1,3)"
   ]
  },
  {
   "cell_type": "code",
   "execution_count": 84,
   "id": "efad13ad-3105-41e8-bc45-267f3eab0b81",
   "metadata": {},
   "outputs": [
    {
     "ename": "SyntaxError",
     "evalue": "invalid syntax (414001024.py, line 1)",
     "output_type": "error",
     "traceback": [
      "\u001b[0;36m  Cell \u001b[0;32mIn[84], line 1\u001b[0;36m\u001b[0m\n\u001b[0;31m    x10 = lambda x=0: [i**x for i in range(11) if type(x) == int 0]\u001b[0m\n\u001b[0m                                                                 ^\u001b[0m\n\u001b[0;31mSyntaxError\u001b[0m\u001b[0;31m:\u001b[0m invalid syntax\n"
     ]
    }
   ],
   "source": [
    "x10 = lambda x=0: [i**x for i in range(11) if type(x) == int lc = lambda]"
   ]
  },
  {
   "cell_type": "code",
   "execution_count": 92,
   "id": "881124fd-ffd3-4ca4-9814-c72003aff878",
   "metadata": {},
   "outputs": [],
   "source": [
    "x11 = lambda x: [i**x if type(x) == int else -1 for i in range(11)]  "
   ]
  },
  {
   "cell_type": "code",
   "execution_count": 96,
   "id": "817ec334-88d5-4ad5-ba44-90053fce6412",
   "metadata": {},
   "outputs": [
    {
     "data": {
      "text/plain": [
       "[-1, -1, -1, -1, -1, -1, -1, -1, -1, -1, -1]"
      ]
     },
     "execution_count": 96,
     "metadata": {},
     "output_type": "execute_result"
    }
   ],
   "source": [
    "x11('2')"
   ]
  },
  {
   "cell_type": "code",
   "execution_count": 85,
   "id": "29df2b2a-102f-48a2-8ee1-a1edeef5920b",
   "metadata": {},
   "outputs": [
    {
     "data": {
      "text/plain": [
       "<filter at 0x7fe0197b0df0>"
      ]
     },
     "execution_count": 85,
     "metadata": {},
     "output_type": "execute_result"
    }
   ],
   "source": [
    "l1 = list(range(10))\n",
    "filter(lambda x: x%2 ==0,l1)"
   ]
  },
  {
   "cell_type": "code",
   "execution_count": 86,
   "id": "a5b891b7-fb42-40a7-829e-747b022abec9",
   "metadata": {},
   "outputs": [
    {
     "data": {
      "text/plain": [
       "[0, 2, 4, 6, 8]"
      ]
     },
     "execution_count": 86,
     "metadata": {},
     "output_type": "execute_result"
    }
   ],
   "source": [
    "list(filter(lambda x: x%2 ==0,l1))"
   ]
  },
  {
   "cell_type": "code",
   "execution_count": 87,
   "id": "53ac0891-ff13-45c5-995f-0b0a7104d880",
   "metadata": {},
   "outputs": [
    {
     "data": {
      "text/plain": [
       "[0, 1, 4, 9, 16, 25, 36, 49, 64, 81]"
      ]
     },
     "execution_count": 87,
     "metadata": {},
     "output_type": "execute_result"
    }
   ],
   "source": [
    "list(map(lambda x:x**2,l1))"
   ]
  },
  {
   "cell_type": "code",
   "execution_count": 88,
   "id": "0e181475-3b0f-4263-a889-13eb681fe930",
   "metadata": {},
   "outputs": [
    {
     "data": {
      "text/plain": [
       "45"
      ]
     },
     "execution_count": 88,
     "metadata": {},
     "output_type": "execute_result"
    }
   ],
   "source": [
    "from functools import reduce\n",
    "\n",
    "\n",
    "reduce(lambda prev, curr: curr+prev, l1)"
   ]
  },
  {
   "cell_type": "code",
   "execution_count": 97,
   "id": "08a570fe-7ad5-4f58-8be6-5daed768035c",
   "metadata": {},
   "outputs": [
    {
     "data": {
      "text/plain": [
       "<__main__.Animal at 0x7fe0197c1d50>"
      ]
     },
     "execution_count": 97,
     "metadata": {},
     "output_type": "execute_result"
    }
   ],
   "source": [
    "## 03.04\n",
    "# Klasses\n",
    "class Animal:\n",
    "    pass\n",
    "\n",
    "cat = Animal()\n",
    "cat"
   ]
  },
  {
   "cell_type": "code",
   "execution_count": 98,
   "id": "36c16455-cad1-4e0f-bc4e-9d2dfbf270e0",
   "metadata": {},
   "outputs": [
    {
     "name": "stdout",
     "output_type": "stream",
     "text": [
      "hello, I'm a Cat\n"
     ]
    }
   ],
   "source": [
    "class Cat(Animal):\n",
    "    def great(self):  # ekzempljarny metod\n",
    "        print(f'hello, I\\'m a Cat')\n",
    "\n",
    "new_cat = Cat()\n",
    "new_cat.great()\n",
    "    "
   ]
  },
  {
   "cell_type": "code",
   "execution_count": 99,
   "id": "13340824-db65-434f-bea0-a88274f54851",
   "metadata": {},
   "outputs": [
    {
     "ename": "TypeError",
     "evalue": "Cat.great() missing 1 required positional argument: 'name'",
     "output_type": "error",
     "traceback": [
      "\u001b[0;31m---------------------------------------------------------------------------\u001b[0m",
      "\u001b[0;31mTypeError\u001b[0m                                 Traceback (most recent call last)",
      "Cell \u001b[0;32mIn[99], line 6\u001b[0m\n\u001b[1;32m      3\u001b[0m         \u001b[38;5;28mprint\u001b[39m(\u001b[38;5;124mf\u001b[39m\u001b[38;5;124m'\u001b[39m\u001b[38;5;124mhello, \u001b[39m\u001b[38;5;132;01m{\u001b[39;00mname\u001b[38;5;132;01m}\u001b[39;00m\u001b[38;5;124m I\u001b[39m\u001b[38;5;130;01m\\'\u001b[39;00m\u001b[38;5;124mm a Cat\u001b[39m\u001b[38;5;124m'\u001b[39m)\n\u001b[1;32m      5\u001b[0m new_cat \u001b[38;5;241m=\u001b[39m Cat()\n\u001b[0;32m----> 6\u001b[0m \u001b[43mnew_cat\u001b[49m\u001b[38;5;241;43m.\u001b[39;49m\u001b[43mgreat\u001b[49m\u001b[43m(\u001b[49m\u001b[43m)\u001b[49m\n",
      "\u001b[0;31mTypeError\u001b[0m: Cat.great() missing 1 required positional argument: 'name'"
     ]
    }
   ],
   "source": [
    "class Cat(Animal):\n",
    "    def great(self, name):  # ekzempljarny metod\n",
    "        print(f'hello, {name} I\\'m a Cat')\n",
    "\n",
    "new_cat = Cat()\n",
    "new_cat.great()"
   ]
  },
  {
   "cell_type": "code",
   "execution_count": 101,
   "id": "e29b0786-23d9-4bc0-9dbd-a2232441c87e",
   "metadata": {},
   "outputs": [
    {
     "name": "stdout",
     "output_type": "stream",
     "text": [
      "hello, Dioma I'm a Cat\n"
     ]
    }
   ],
   "source": [
    "class Cat(Animal):\n",
    "    def great(self, name):  # ekzempljarny metod\n",
    "        print(f'hello, {name} I\\'m a Cat')\n",
    "\n",
    "new_cat = Cat()\n",
    "new_cat.great('Dioma')"
   ]
  },
  {
   "cell_type": "code",
   "execution_count": 104,
   "id": "4ae2be06-a53b-4f34-9419-2ff00745cf92",
   "metadata": {},
   "outputs": [
    {
     "name": "stdout",
     "output_type": "stream",
     "text": [
      "Help on Cat in module __main__ object:\n",
      "\n",
      "class Cat(Animal)\n",
      " |  Method resolution order:\n",
      " |      Cat\n",
      " |      Animal\n",
      " |      builtins.object\n",
      " |  \n",
      " |  Methods defined here:\n",
      " |  \n",
      " |  great(self, name)\n",
      " |  \n",
      " |  ----------------------------------------------------------------------\n",
      " |  Data descriptors inherited from Animal:\n",
      " |  \n",
      " |  __dict__\n",
      " |      dictionary for instance variables (if defined)\n",
      " |  \n",
      " |  __weakref__\n",
      " |      list of weak references to the object (if defined)\n",
      "\n"
     ]
    }
   ],
   "source": [
    "help(new_cat)"
   ]
  },
  {
   "cell_type": "code",
   "execution_count": 107,
   "id": "1f4750f6-2322-46da-ad6c-45058ec99f34",
   "metadata": {},
   "outputs": [
    {
     "data": {
      "text/plain": [
       "['__class__',\n",
       " '__delattr__',\n",
       " '__dict__',\n",
       " '__dir__',\n",
       " '__doc__',\n",
       " '__eq__',\n",
       " '__format__',\n",
       " '__ge__',\n",
       " '__getattribute__',\n",
       " '__gt__',\n",
       " '__hash__',\n",
       " '__init__',\n",
       " '__init_subclass__',\n",
       " '__le__',\n",
       " '__lt__',\n",
       " '__module__',\n",
       " '__ne__',\n",
       " '__new__',\n",
       " '__reduce__',\n",
       " '__reduce_ex__',\n",
       " '__repr__',\n",
       " '__setattr__',\n",
       " '__sizeof__',\n",
       " '__str__',\n",
       " '__subclasshook__',\n",
       " '__weakref__',\n",
       " 'great']"
      ]
     },
     "execution_count": 107,
     "metadata": {},
     "output_type": "execute_result"
    }
   ],
   "source": [
    "dir(new_cat)"
   ]
  },
  {
   "cell_type": "code",
   "execution_count": 113,
   "id": "afe97179-a42b-491f-93fd-1687eb013393",
   "metadata": {},
   "outputs": [
    {
     "name": "stdout",
     "output_type": "stream",
     "text": [
      "{'__module__': '__main__', 'great': <function Cat.great at 0x7fe01936f250>, '__doc__': None}\n"
     ]
    }
   ],
   "source": [
    "print(Cat.__dict__)"
   ]
  },
  {
   "cell_type": "code",
   "execution_count": 114,
   "id": "4b7cee1a-5395-4a0e-bf4a-abc1094839e7",
   "metadata": {},
   "outputs": [
    {
     "ename": "TypeError",
     "evalue": "Cat.great() missing 1 required positional argument: 'name'",
     "output_type": "error",
     "traceback": [
      "\u001b[0;31m---------------------------------------------------------------------------\u001b[0m",
      "\u001b[0;31mTypeError\u001b[0m                                 Traceback (most recent call last)",
      "Cell \u001b[0;32mIn[114], line 1\u001b[0m\n\u001b[0;32m----> 1\u001b[0m \u001b[43mCat\u001b[49m\u001b[38;5;241;43m.\u001b[39;49m\u001b[43mgreat\u001b[49m\u001b[43m(\u001b[49m\u001b[38;5;124;43m'\u001b[39;49m\u001b[38;5;124;43m123\u001b[39;49m\u001b[38;5;124;43m'\u001b[39;49m\u001b[43m)\u001b[49m\n",
      "\u001b[0;31mTypeError\u001b[0m: Cat.great() missing 1 required positional argument: 'name'"
     ]
    }
   ],
   "source": [
    "Cat.great('123')"
   ]
  },
  {
   "cell_type": "code",
   "execution_count": 115,
   "id": "7b85d8d5-6927-4ee8-93d3-f7bb14cce629",
   "metadata": {},
   "outputs": [
    {
     "name": "stdout",
     "output_type": "stream",
     "text": [
      "hello, 321 I'm a Cat\n"
     ]
    }
   ],
   "source": [
    "Cat.great('123','321')  # tut 123 eto self"
   ]
  },
  {
   "cell_type": "code",
   "execution_count": 132,
   "id": "07ed742c-b8bf-46f5-a208-729171aa1e0f",
   "metadata": {},
   "outputs": [
    {
     "name": "stdout",
     "output_type": "stream",
     "text": [
      "hello, Dioma I'm a Cat\n",
      "hello, Dioman I'm a Cat\n",
      "Dioma, I uzhe great you\n"
     ]
    }
   ],
   "source": [
    "class Cat(Animal):\n",
    "    cache = {}\n",
    "    def great(self, name):  # ekzempljarny metod\n",
    "        if name in self.cache:\n",
    "            print(f'{name}, I uzhe great you')\n",
    "        else:\n",
    "            print(f'hello, {name} I\\'m a Cat')\n",
    "            self.cache[name] = 1\n",
    "\n",
    "new_cat = Cat()\n",
    "new_cat.great('Dioma')\n",
    "new_cat.great('Dioman')\n",
    "new_cat.great('Dioma')"
   ]
  },
  {
   "cell_type": "code",
   "execution_count": 117,
   "id": "34c2fecd-a8f6-420a-91d7-a75d80ac4dcd",
   "metadata": {},
   "outputs": [
    {
     "name": "stdout",
     "output_type": "stream",
     "text": [
      "hello, Dioma I'm a Cat\n",
      "I uzhe great you\n",
      "I uzhe great you\n"
     ]
    }
   ],
   "source": [
    "class Cat(Animal): # 24:00\n",
    "    \n",
    "    def great(self, name):  # ekzempljarny metod\n",
    "        if hasattr(self, 'previous_name') and self.previous_name == name:\n",
    "            print(f'I uzhe great you')\n",
    "        else:\n",
    "            print(f'hello, {name} I\\'m a Cat')\n",
    "            self.previous_name = name\n",
    "\n",
    "new_cat = Cat()\n",
    "new_cat.great('Dioma')\n",
    "new_cat.great('Dioma')\n",
    "new_cat.great('Dioma')\n"
   ]
  },
  {
   "cell_type": "code",
   "execution_count": 119,
   "id": "b469879c-84c0-4555-928f-ed3b22bfb12a",
   "metadata": {},
   "outputs": [
    {
     "name": "stdout",
     "output_type": "stream",
     "text": [
      "hello, Dioma I'm a Cat\n",
      "I uzhe great you\n",
      "I uzhe great you\n"
     ]
    },
    {
     "data": {
      "text/plain": [
       "'Barsik'"
      ]
     },
     "execution_count": 119,
     "metadata": {},
     "output_type": "execute_result"
    }
   ],
   "source": [
    "class Cat(Animal): \n",
    "    name = \"\"\n",
    "    def great(self, name):  # ekzempljarny metod\n",
    "        if hasattr(self, 'previous_name') and self.previous_name == name:\n",
    "            print(f'I uzhe great you')\n",
    "        else:\n",
    "            print(f'hello, {name} I\\'m a Cat')\n",
    "            self.previous_name = name\n",
    "\n",
    "new_cat = Cat()\n",
    "new_cat.great('Dioma')\n",
    "new_cat.great('Dioma')\n",
    "new_cat.great('Dioma')\n",
    "new_cat.name = 'Barsik'\n",
    "new_cat.name "
   ]
  },
  {
   "cell_type": "code",
   "execution_count": 121,
   "id": "d7729b0d-9dcd-44fd-b4d9-1fb43cb71c56",
   "metadata": {},
   "outputs": [
    {
     "data": {
      "text/plain": [
       "''"
      ]
     },
     "execution_count": 121,
     "metadata": {},
     "output_type": "execute_result"
    }
   ],
   "source": [
    "Cat.name"
   ]
  },
  {
   "cell_type": "code",
   "execution_count": 124,
   "id": "008bd706-8c82-4982-a233-22fbca3e879d",
   "metadata": {},
   "outputs": [
    {
     "name": "stdout",
     "output_type": "stream",
     "text": [
      "{'lenght': 5}\n"
     ]
    }
   ],
   "source": [
    "class Dog:\n",
    "    length = 0\n",
    "\n",
    "dog = Dog()\n",
    "dog.lenght = 5\n",
    "print(dog.__dict__)"
   ]
  },
  {
   "cell_type": "code",
   "execution_count": 125,
   "id": "1a07cce1-6cf9-46b6-b7e2-006c72ac3ac1",
   "metadata": {},
   "outputs": [
    {
     "name": "stdout",
     "output_type": "stream",
     "text": [
      "['__class__', '__delattr__', '__dict__', '__dir__', '__doc__', '__eq__', '__format__', '__ge__', '__getattribute__', '__gt__', '__hash__', '__init__', '__init_subclass__', '__le__', '__lt__', '__module__', '__ne__', '__new__', '__reduce__', '__reduce_ex__', '__repr__', '__setattr__', '__sizeof__', '__str__', '__subclasshook__', '__weakref__', 'lenght', 'length']\n"
     ]
    }
   ],
   "source": [
    "print(dir(dog))"
   ]
  },
  {
   "cell_type": "code",
   "execution_count": 149,
   "id": "132df786-b9b4-4e7b-944c-c4d3dfc13223",
   "metadata": {},
   "outputs": [
    {
     "data": {
      "text/plain": [
       "'ttest'"
      ]
     },
     "execution_count": 149,
     "metadata": {},
     "output_type": "execute_result"
    }
   ],
   "source": [
    "class MyCat: #          setters  getters (propety)\n",
    "    length = 0\n",
    "    width = 0\n",
    "\n",
    "    def get_region(self):\n",
    "        return self.length * self.width \n",
    "        \n",
    "    @property\n",
    "    def cat_length(self):  # tut ne vse jasno\n",
    "        if self.length           > 100:\n",
    "            raise ValueError('Very long cat')\n",
    "        return self.length\n",
    "\n",
    "    @cat_length.setter\n",
    "    def cat_length(self, value):\n",
    "        if isinstance(value, int) : #if not type(value) == int :  #ili  if isinstance(value, int) :\n",
    "            raise ValueError('Length is integer type')\n",
    "        else:\n",
    "            self.length = value\n",
    "    \n",
    "cat = Cat()\n",
    "cat.length = 'ttest'\n",
    "cat.cat_length = 'test'\n",
    "cat.length\n"
   ]
  },
  {
   "cell_type": "code",
   "execution_count": 150,
   "id": "c7e8e678-7078-42ff-8ca3-59dcba04cc91",
   "metadata": {},
   "outputs": [
    {
     "name": "stdout",
     "output_type": "stream",
     "text": [
      "['_MyCat__width', '__class__', '__delattr__', '__dict__', '__dir__', '__doc__', '__eq__', '__format__', '__ge__', '__getattribute__', '__gt__', '__hash__', '__init__', '__init_subclass__', '__le__', '__lt__', '__module__', '__ne__', '__new__', '__reduce__', '__reduce_ex__', '__repr__', '__setattr__', '__sizeof__', '__str__', '__subclasshook__', '__weakref__', '_length', 'get_region', 'public_len']\n",
      "['_MyCat__width', '__class__', '__delattr__', '__dict__', '__dir__', '__doc__', '__eq__', '__format__', '__ge__', '__getattribute__', '__gt__', '__hash__', '__init__', '__init_subclass__', '__le__', '__lt__', '__module__', '__ne__', '__new__', '__reduce__', '__reduce_ex__', '__repr__', '__setattr__', '__sizeof__', '__str__', '__subclasshook__', '__weakref__', '_length', 'get_region', 'public_len']\n"
     ]
    }
   ],
   "source": [
    "class MyCat: #          setters  getters (propety)\n",
    "    _length = 0 # protected\n",
    "    __width = 0 # private\n",
    "    public_len = 0\n",
    "    \n",
    "    def get_region(self):\n",
    "        return self.length * self.width \n",
    "\n",
    "print(dir(MyCat))\n",
    "MyCat._length = 10\n",
    "MyCat._MyCat__width = 100\n",
    "print(dir(MyCat))\n",
    "\n"
   ]
  },
  {
   "cell_type": "code",
   "execution_count": 146,
   "id": "f10b6243-e42b-4f2d-bd96-1c2548b9edda",
   "metadata": {},
   "outputs": [
    {
     "data": {
      "text/plain": [
       "10"
      ]
     },
     "execution_count": 146,
     "metadata": {},
     "output_type": "execute_result"
    }
   ],
   "source": [
    "MyCat._length"
   ]
  },
  {
   "cell_type": "code",
   "execution_count": 148,
   "id": "6c29b6ff-229b-4e81-bc70-9a4f942e81de",
   "metadata": {},
   "outputs": [
    {
     "data": {
      "text/plain": [
       "100"
      ]
     },
     "execution_count": 148,
     "metadata": {},
     "output_type": "execute_result"
    }
   ],
   "source": [
    "MyCat._MyCat__width "
   ]
  },
  {
   "cell_type": "code",
   "execution_count": 152,
   "id": "f53a9901-de0b-497c-ac0e-e829815a885b",
   "metadata": {},
   "outputs": [
    {
     "name": "stdout",
     "output_type": "stream",
     "text": [
      "from 140600477074720\n",
      "from 94696287472448\n",
      "123\n"
     ]
    }
   ],
   "source": [
    "## staticheskie metody i metody classa\n",
    "class Db:\n",
    "    def instance_method(self, value):\n",
    "        print(f'from {id(self)}')\n",
    "\n",
    "    @classmethod\n",
    "    def class_method(cls, value):\n",
    "        print(f'from {id(cls)}')\n",
    "\n",
    "    @staticmethod\n",
    "    def static_method(value):\n",
    "        print(f'{value}')\n",
    "\n",
    "db = Db()\n",
    "db.instance_method('123')\n",
    "Db.class_method('123')\n",
    "Db.static_method('123')\n"
   ]
  },
  {
   "cell_type": "code",
   "execution_count": 155,
   "id": "cd55b59f-9468-4521-ac86-3cc1822da6d7",
   "metadata": {},
   "outputs": [
    {
     "name": "stdout",
     "output_type": "stream",
     "text": [
      "MySql\n",
      "Postgres\n"
     ]
    }
   ],
   "source": [
    "#Db.MySql.connect()\n",
    "#Db.Postgres.connect()\n",
    "\n",
    "class Db:\n",
    "    class MySql:\n",
    "        @staticmethod\n",
    "        def connect():\n",
    "            print('MySql')\n",
    "    class Postgres:\n",
    "        @staticmethod\n",
    "        def connect():\n",
    "            print('Postgres')\n",
    "\n",
    "Db.MySql.connect()\n",
    "Db.Postgres.connect()\n"
   ]
  },
  {
   "cell_type": "code",
   "execution_count": 179,
   "id": "715d0bed-7ba9-4288-a18c-b0902db5c62e",
   "metadata": {},
   "outputs": [
    {
     "name": "stdout",
     "output_type": "stream",
     "text": [
      "meow\n"
     ]
    },
    {
     "data": {
      "text/plain": [
       "2"
      ]
     },
     "execution_count": 179,
     "metadata": {},
     "output_type": "execute_result"
    }
   ],
   "source": [
    "class MyCat: # \n",
    "    length = 0\n",
    "    width = 0\n",
    "\n",
    "    def get_region(self):\n",
    "        return self.length * self.width\n",
    "class SyberianCat(MyCat):\n",
    "    def __init__(self, length=0, width=0):\n",
    "        self.length = length\n",
    "        self.width = width\n",
    "        \n",
    "    def __call__(self):\n",
    "        print(f'{self.get_region()}')\n",
    "        \n",
    "    def __len__(self): #\n",
    "        return self.length\n",
    "        \n",
    "    def __str__(self):\n",
    "        return f'Little cat {self.length}, {self.width}'\n",
    "        \n",
    "    def meow(self):\n",
    "        print('meow')\n",
    "\n",
    "    def get_region(self):\n",
    "        return 2 + super().get_region()\n",
    "        \n",
    "#__report\n",
    "#__eq\n",
    "#__new\n",
    "\n",
    "\n",
    "sib_cat = SyberianCat()\n",
    "sib_cat.meow()\n",
    "sib_cat.get_region()"
   ]
  },
  {
   "cell_type": "code",
   "execution_count": 180,
   "id": "c163db2a-63fa-41ed-8074-c25365755acf",
   "metadata": {},
   "outputs": [
    {
     "name": "stdout",
     "output_type": "stream",
     "text": [
      "Little cat 0, 0\n"
     ]
    }
   ],
   "source": [
    "len(sib_cat)\n",
    "print(sib_cat)\n"
   ]
  },
  {
   "cell_type": "code",
   "execution_count": 181,
   "id": "60a1169f-3b43-484b-ae86-b77a05c53484",
   "metadata": {},
   "outputs": [
    {
     "name": "stdout",
     "output_type": "stream",
     "text": [
      "Little cat 5, 7\n"
     ]
    }
   ],
   "source": [
    "sib_cat = SyberianCat(5,7)\n",
    "print(sib_cat)"
   ]
  },
  {
   "cell_type": "code",
   "execution_count": 182,
   "id": "19f899a1-e0b5-40ab-bf3d-819817b5727b",
   "metadata": {},
   "outputs": [
    {
     "name": "stdout",
     "output_type": "stream",
     "text": [
      "37\n"
     ]
    }
   ],
   "source": [
    "sib_cat()"
   ]
  },
  {
   "cell_type": "code",
   "execution_count": 184,
   "id": "7defa519-5cdf-4a5d-974a-4c0c7bc74fe2",
   "metadata": {},
   "outputs": [
    {
     "name": "stdout",
     "output_type": "stream",
     "text": [
      "<function SyberianCat.meow at 0x7fe0191d5000> called 1 times\n",
      "meow\n",
      "<function SyberianCat.get_region at 0x7fe0191d6b90> called 1 times\n",
      "<function SyberianCat.get_region at 0x7fe0191d6b90> called 2 times\n",
      "<function SyberianCat.get_region at 0x7fe0191d6b90> called 3 times\n"
     ]
    },
    {
     "data": {
      "text/plain": [
       "2"
      ]
     },
     "execution_count": 184,
     "metadata": {},
     "output_type": "execute_result"
    }
   ],
   "source": [
    "def dekorate_method(method):\n",
    "    def wrapper(*args,**kwargs):\n",
    "        print('H')\n",
    "    return wrapper\n",
    "\n",
    "def call_count(func):\n",
    "    call_cnts = {}\n",
    "    @functools.wraps(func)\n",
    "    def wrapper(*args,**kwargs):\n",
    "        if func not in call_cnts: \n",
    "            call_cnts[func] = 1\n",
    "        else:\n",
    "            call_cnts[func] = call_cnts[func] + 1\n",
    "        \n",
    "        print(f'{func} called {call_cnts[func]} times')\n",
    "        return func(*args,**kwargs)\n",
    "    return wrapper\n",
    "\n",
    "class MyCat: #  dekoratory dlja metodov\n",
    "    length = 0\n",
    "    width = 0\n",
    "\n",
    "    def get_region(self):\n",
    "        return self.length * self.width\n",
    "class SyberianCat(MyCat):\n",
    "    def __init__(self, length=0, width=0):\n",
    "        self.length = length\n",
    "        self.width = width\n",
    "        \n",
    "    def __call__(self):\n",
    "        print(f'{self.get_region()}')\n",
    "        \n",
    "    def __len__(self): #\n",
    "        return self.length\n",
    "        \n",
    "    def __str__(self):\n",
    "        return f'Little cat {self.length}, {self.width}'\n",
    "    @call_count    \n",
    "    def meow(self):\n",
    "        print('meow')\n",
    "    @call_count\n",
    "    def get_region(self):\n",
    "        return 2 + super().get_region()\n",
    "        \n",
    "#__report\n",
    "#__eq\n",
    "#__new\n",
    "\n",
    "\n",
    "sib_cat = SyberianCat()\n",
    "sib_cat.meow()\n",
    "sib_cat.get_region()\n",
    "sib_cat.get_region()\n",
    "sib_cat.get_region()\n",
    "\n",
    "#"
   ]
  },
  {
   "cell_type": "code",
   "execution_count": 186,
   "id": "fe4fdd31-5c2a-4d0d-b07f-ffc8a2337a66",
   "metadata": {},
   "outputs": [
    {
     "data": {
      "text/plain": [
       "count(0, 10)"
      ]
     },
     "execution_count": 186,
     "metadata": {},
     "output_type": "execute_result"
    }
   ],
   "source": [
    "import itertools\n",
    "counter = itertools.count(0,10)\n",
    "counter"
   ]
  },
  {
   "cell_type": "code",
   "execution_count": 188,
   "id": "4bad99d8-2d8a-4a91-b97f-d691310f7b9f",
   "metadata": {},
   "outputs": [
    {
     "data": {
      "text/plain": [
       "0"
      ]
     },
     "execution_count": 188,
     "metadata": {},
     "output_type": "execute_result"
    }
   ],
   "source": [
    "next(counter)"
   ]
  },
  {
   "cell_type": "code",
   "execution_count": 191,
   "id": "332df1df-e5e0-4afe-83a1-90ab4e94d635",
   "metadata": {},
   "outputs": [
    {
     "name": "stdout",
     "output_type": "stream",
     "text": [
      "a\n",
      "b\n",
      "c\n",
      "a\n",
      "b\n",
      "c\n",
      "a\n",
      "b\n",
      "c\n",
      "a\n"
     ]
    }
   ],
   "source": [
    "cycled_letters = itertools.cycle('abc')\n",
    "att = 0\n",
    "for i in cycled_letters:\n",
    "    att += 1\n",
    "    if att > 10:\n",
    "        break\n",
    "    print(i)"
   ]
  },
  {
   "cell_type": "code",
   "execution_count": 192,
   "id": "30c652b4-12e6-41fb-b568-81bd1d5edb77",
   "metadata": {},
   "outputs": [
    {
     "name": "stdout",
     "output_type": "stream",
     "text": [
      "10\n",
      "10\n",
      "10\n",
      "10\n",
      "10\n"
     ]
    }
   ],
   "source": [
    "for i in itertools.repeat(10,5):\n",
    "    print(i)"
   ]
  },
  {
   "cell_type": "code",
   "execution_count": 194,
   "id": "f685bee6-a5d9-4853-9b1e-76c2b867f931",
   "metadata": {},
   "outputs": [
    {
     "data": {
      "text/plain": [
       "\u001b[0;31mInit signature:\u001b[0m \u001b[0mitertools\u001b[0m\u001b[0;34m.\u001b[0m\u001b[0mcompress\u001b[0m\u001b[0;34m(\u001b[0m\u001b[0mdata\u001b[0m\u001b[0;34m,\u001b[0m \u001b[0mselectors\u001b[0m\u001b[0;34m)\u001b[0m\u001b[0;34m\u001b[0m\u001b[0;34m\u001b[0m\u001b[0m\n",
       "\u001b[0;31mDocstring:\u001b[0m     \n",
       "Return data elements corresponding to true selector elements.\n",
       "\n",
       "Forms a shorter iterator from selected data elements using the selectors to\n",
       "choose the data elements.\n",
       "\u001b[0;31mType:\u001b[0m           type\n",
       "\u001b[0;31mSubclasses:\u001b[0m     "
      ]
     },
     "metadata": {},
     "output_type": "display_data"
    }
   ],
   "source": [
    "itertools.compress?"
   ]
  },
  {
   "cell_type": "code",
   "execution_count": 195,
   "id": "41b5ad1c-3a6f-4090-8467-72bfde753425",
   "metadata": {},
   "outputs": [
    {
     "data": {
      "text/plain": [
       "['A', 'A', 'A', 'S', 'D', 'F', 'G', 'G']"
      ]
     },
     "execution_count": 195,
     "metadata": {},
     "output_type": "execute_result"
    }
   ],
   "source": [
    "list(itertools.compress('AAAaSsDdFfGGh',[1,1,1,0,1,0,1,0,1,0,1,1,0]))\n"
   ]
  },
  {
   "cell_type": "code",
   "execution_count": 197,
   "id": "4b946b45-6383-47e4-a307-b6255b2c3efc",
   "metadata": {},
   "outputs": [
    {
     "name": "stdout",
     "output_type": "stream",
     "text": [
      "Key: China\n",
      "Item: {'city': 'Beijin', 'country': 'China'}\n",
      "Key: Mexica\n",
      "Item: {'city': 'Mexico', 'country': 'Mexica'}\n",
      "Key: Russia\n",
      "Item: {'city': 'Moscow', 'country': 'Russia'}\n",
      "Item: {'city': 'Novosib', 'country': 'Russia'}\n"
     ]
    }
   ],
   "source": [
    "## 04.04.2024\n",
    "\n",
    "from itertools import groupby\n",
    "\n",
    "def grouper(item):\n",
    "    return item['country']\n",
    "\n",
    "data = [\n",
    "    {'city':'Moscow','country':'Russia'},\n",
    "    {'city':'Novosib','country':'Russia'},\n",
    "    {'city':'Mexico','country':'Mexica'},\n",
    "    {'city':'Beijin','country':'China'}\n",
    "]\n",
    "\n",
    "# select country,count() from data groupby country order country\n",
    "#sorted(data, key=grouper)\n",
    "#groupby(data, key=grouper)\n",
    "\n",
    "data = sorted(data, key=grouper)\n",
    "for key, group_items in groupby(data, key=grouper):\n",
    "    print('Key: %s' % key)\n",
    "    for item in group_items:\n",
    "        print('Item: %s' % item)\n",
    "        "
   ]
  },
  {
   "cell_type": "code",
   "execution_count": 200,
   "id": "9fef4b5b-a857-43c9-863a-0b9bcce42207",
   "metadata": {},
   "outputs": [
    {
     "name": "stdout",
     "output_type": "stream",
     "text": [
      "Key: China\n",
      "Item: {'city': 'Mudanjiang', 'country': 'China'}\n",
      "Key: Mexica\n",
      "Item: {'city': 'Mexico', 'country': 'Mexica'}\n",
      "Key: Russia\n",
      "Item: {'city': 'Moscow', 'country': 'Russia'}\n"
     ]
    }
   ],
   "source": [
    "from itertools import groupby\n",
    "\n",
    "def grouper(item):\n",
    "    return item['country']\n",
    "\n",
    "data = [\n",
    "    {'city':'Moscow','country':'Russia'},\n",
    "    {'city':'Novosib','country':'Russia'},\n",
    "    {'city':'Mexico','country':'Mexica'},\n",
    "    {'city':'Mudanjiang','country':'China'},\n",
    "    {'city':'Beijin','country':'China'}\n",
    "]\n",
    "\n",
    "# select country,count() from data where city like 'M%' groupby country order country\n",
    "#sorted(data, key=grouper)\n",
    "#groupby(data, key=grouper)\n",
    "data = list(filter(lambda item: item['city'].startswith('M'),data))\n",
    "data = sorted(data, key=grouper)\n",
    "for key, group_items in groupby(data, key=grouper):\n",
    "    print('Key: %s' % key)\n",
    "    for item in group_items:\n",
    "        print('Item: %s' % item)\n",
    "        "
   ]
  },
  {
   "cell_type": "code",
   "execution_count": null,
   "id": "99ad3ec0-8eb4-4086-9f2a-e8b98cbcac63",
   "metadata": {},
   "outputs": [],
   "source": []
  }
 ],
 "metadata": {
  "kernelspec": {
   "display_name": "Python 3 (ipykernel)",
   "language": "python",
   "name": "python3"
  },
  "language_info": {
   "codemirror_mode": {
    "name": "ipython",
    "version": 3
   },
   "file_extension": ".py",
   "mimetype": "text/x-python",
   "name": "python",
   "nbconvert_exporter": "python",
   "pygments_lexer": "ipython3",
   "version": "3.10.12"
  }
 },
 "nbformat": 4,
 "nbformat_minor": 5
}
