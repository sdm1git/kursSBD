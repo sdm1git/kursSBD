{
 "cells": [
  {
   "cell_type": "code",
   "execution_count": null,
   "id": "51254918",
   "metadata": {},
   "outputs": [],
   "source": [
    "#игра угадай число\n",
    "import random\n",
    "random.seed()\n",
    "a = random.randint(1,100)\n",
    "cnt = 0\n",
    "while cnt<10 :\n",
    "    b = int(input('Enter your number (1-100):'))\n",
    "    cnt += 1\n",
    "    if a > b :\n",
    "        print('No. Bigger ...')\n",
    "    elif a<b :\n",
    "        print('No. Smaller ...')\n",
    "    else:\n",
    "        break\n",
    "if a == b : \n",
    "    print(f'Yeah. It is {a}, {cnt} tries.')\n",
    "else:\n",
    "    print(f'No. It was {a}')\n",
    "    "
   ]
  }
 ],
 "metadata": {
  "kernelspec": {
   "display_name": "Python 3 (ipykernel)",
   "language": "python",
   "name": "python3"
  },
  "language_info": {
   "codemirror_mode": {
    "name": "ipython",
    "version": 3
   },
   "file_extension": ".py",
   "mimetype": "text/x-python",
   "name": "python",
   "nbconvert_exporter": "python",
   "pygments_lexer": "ipython3",
   "version": "3.9.13"
  }
 },
 "nbformat": 4,
 "nbformat_minor": 5
}
