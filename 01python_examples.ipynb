{
 "cells": [
  {
   "cell_type": "code",
   "execution_count": 1,
   "id": "7455719d",
   "metadata": {},
   "outputs": [
    {
     "data": {
      "text/plain": [
       "1"
      ]
     },
     "execution_count": 1,
     "metadata": {},
     "output_type": "execute_result"
    }
   ],
   "source": [
    "a = 0\n",
    "a + True \n"
   ]
  },
  {
   "cell_type": "code",
   "execution_count": 2,
   "id": "b7e5f994",
   "metadata": {},
   "outputs": [
    {
     "data": {
      "text/plain": [
       "2334873839888"
      ]
     },
     "execution_count": 2,
     "metadata": {},
     "output_type": "execute_result"
    }
   ],
   "source": [
    "id(a)"
   ]
  },
  {
   "cell_type": "code",
   "execution_count": 3,
   "id": "9ef782a0",
   "metadata": {},
   "outputs": [],
   "source": [
    "l1 = []\n",
    "l11 = list()"
   ]
  },
  {
   "cell_type": "code",
   "execution_count": 5,
   "id": "183eb235",
   "metadata": {},
   "outputs": [
    {
     "data": {
      "text/plain": [
       "[1, 2, 3, 4]"
      ]
     },
     "execution_count": 5,
     "metadata": {},
     "output_type": "execute_result"
    }
   ],
   "source": [
    "l1 = [1,2,3,4]\n",
    "l1"
   ]
  },
  {
   "cell_type": "code",
   "execution_count": 7,
   "id": "6d4522c3",
   "metadata": {},
   "outputs": [
    {
     "data": {
      "text/plain": [
       "[1, 2, 3, 4, 10, 10]"
      ]
     },
     "execution_count": 7,
     "metadata": {},
     "output_type": "execute_result"
    }
   ],
   "source": [
    "l1.append(10)\n",
    "l1"
   ]
  },
  {
   "cell_type": "code",
   "execution_count": 8,
   "id": "bb978648",
   "metadata": {},
   "outputs": [
    {
     "data": {
      "text/plain": [
       "[1, 2, 3, 4, 10, 10, [...]]"
      ]
     },
     "execution_count": 8,
     "metadata": {},
     "output_type": "execute_result"
    }
   ],
   "source": [
    "l1.append(l1)\n",
    "l1"
   ]
  },
  {
   "cell_type": "code",
   "execution_count": 9,
   "id": "24943008",
   "metadata": {},
   "outputs": [
    {
     "data": {
      "text/plain": [
       "[1, 2, 3, 4, 10, 10, [...], 5, 6, 7]"
      ]
     },
     "execution_count": 9,
     "metadata": {},
     "output_type": "execute_result"
    }
   ],
   "source": [
    "l1.extend([5,6,7])\n",
    "l1"
   ]
  },
  {
   "cell_type": "code",
   "execution_count": 10,
   "id": "4d365c87",
   "metadata": {},
   "outputs": [
    {
     "data": {
      "text/plain": [
       "[1, 2, 3, 4, 10, 10, 5, 6, 7]"
      ]
     },
     "execution_count": 10,
     "metadata": {},
     "output_type": "execute_result"
    }
   ],
   "source": [
    "del l1[6]\n",
    "l1"
   ]
  },
  {
   "cell_type": "code",
   "execution_count": 11,
   "id": "b1e5b2be",
   "metadata": {},
   "outputs": [
    {
     "data": {
      "text/plain": [
       "1"
      ]
     },
     "execution_count": 11,
     "metadata": {},
     "output_type": "execute_result"
    }
   ],
   "source": [
    "l1 = [1,2,3,4,5,6,7,8,9]\n",
    "l1[0]"
   ]
  },
  {
   "cell_type": "code",
   "execution_count": 12,
   "id": "724222c5",
   "metadata": {},
   "outputs": [
    {
     "data": {
      "text/plain": [
       "9"
      ]
     },
     "execution_count": 12,
     "metadata": {},
     "output_type": "execute_result"
    }
   ],
   "source": [
    "l1[-1]"
   ]
  },
  {
   "cell_type": "code",
   "execution_count": 13,
   "id": "fd00ea20",
   "metadata": {},
   "outputs": [
    {
     "data": {
      "text/plain": [
       "[2, 3]"
      ]
     },
     "execution_count": 13,
     "metadata": {},
     "output_type": "execute_result"
    }
   ],
   "source": [
    "l1[1:3]"
   ]
  },
  {
   "cell_type": "code",
   "execution_count": 14,
   "id": "b2e2ad8a",
   "metadata": {},
   "outputs": [
    {
     "data": {
      "text/plain": [
       "[9, 7, 5, 3, 1]"
      ]
     },
     "execution_count": 14,
     "metadata": {},
     "output_type": "execute_result"
    }
   ],
   "source": [
    "l1[::-2]"
   ]
  },
  {
   "cell_type": "code",
   "execution_count": 15,
   "id": "373ef6d0",
   "metadata": {},
   "outputs": [
    {
     "data": {
      "text/plain": [
       "[5, 7, 9]"
      ]
     },
     "execution_count": 15,
     "metadata": {},
     "output_type": "execute_result"
    }
   ],
   "source": [
    "l1[::-2][2::-1]"
   ]
  },
  {
   "cell_type": "code",
   "execution_count": 16,
   "id": "c9afd8fc",
   "metadata": {},
   "outputs": [],
   "source": [
    "d1 = {}\n",
    "d1 = dict()"
   ]
  },
  {
   "cell_type": "code",
   "execution_count": 17,
   "id": "29353649",
   "metadata": {},
   "outputs": [
    {
     "data": {
      "text/plain": [
       "{'key1': 'value', 'key2': 10}"
      ]
     },
     "execution_count": 17,
     "metadata": {},
     "output_type": "execute_result"
    }
   ],
   "source": [
    "d1 = { 'key1':'value',\n",
    "     'key2':10}\n",
    "d1"
   ]
  },
  {
   "cell_type": "code",
   "execution_count": 18,
   "id": "85a5dac2",
   "metadata": {},
   "outputs": [
    {
     "data": {
      "text/plain": [
       "'value'"
      ]
     },
     "execution_count": 18,
     "metadata": {},
     "output_type": "execute_result"
    }
   ],
   "source": [
    "d1['key1']"
   ]
  },
  {
   "cell_type": "code",
   "execution_count": 19,
   "id": "8f8b1dd7",
   "metadata": {},
   "outputs": [
    {
     "data": {
      "text/plain": [
       "dict_items([('key1', 'value'), ('key2', 10)])"
      ]
     },
     "execution_count": 19,
     "metadata": {},
     "output_type": "execute_result"
    }
   ],
   "source": [
    "d1.items()"
   ]
  },
  {
   "cell_type": "code",
   "execution_count": 20,
   "id": "efd2d4e4",
   "metadata": {},
   "outputs": [
    {
     "data": {
      "text/plain": [
       "dict_keys(['key1', 'key2'])"
      ]
     },
     "execution_count": 20,
     "metadata": {},
     "output_type": "execute_result"
    }
   ],
   "source": [
    "d1.keys()"
   ]
  },
  {
   "cell_type": "code",
   "execution_count": 21,
   "id": "bd5d66e4",
   "metadata": {},
   "outputs": [
    {
     "data": {
      "text/plain": [
       "dict_values(['value', 10])"
      ]
     },
     "execution_count": 21,
     "metadata": {},
     "output_type": "execute_result"
    }
   ],
   "source": [
    "d1.values()"
   ]
  },
  {
   "cell_type": "code",
   "execution_count": 22,
   "id": "eca0f043",
   "metadata": {},
   "outputs": [],
   "source": [
    "str1 = \"\"\"\n",
    "this is a 'string'\n",
    "\"\"\""
   ]
  },
  {
   "cell_type": "code",
   "execution_count": 24,
   "id": "bde46b3a",
   "metadata": {},
   "outputs": [
    {
     "name": "stdout",
     "output_type": "stream",
     "text": [
      "2334957257872 2334956842096\n"
     ]
    }
   ],
   "source": [
    "str2 = 'test2'\n",
    "print(f'{id(str1)} {id(str2)}')"
   ]
  },
  {
   "cell_type": "code",
   "execution_count": 26,
   "id": "cc0e1110",
   "metadata": {},
   "outputs": [
    {
     "name": "stdout",
     "output_type": "stream",
     "text": [
      "2334956842096 2334956842096\n"
     ]
    }
   ],
   "source": [
    "str1 = 'test2'\n",
    "print(f'{id(str1)} {id(str2)}')"
   ]
  },
  {
   "cell_type": "code",
   "execution_count": 27,
   "id": "95ec73e6",
   "metadata": {},
   "outputs": [],
   "source": [
    "t = ()\n",
    "t = tuple()"
   ]
  },
  {
   "cell_type": "code",
   "execution_count": 29,
   "id": "d55b4fe5",
   "metadata": {},
   "outputs": [
    {
     "data": {
      "text/plain": [
       "(1, 2, 3)"
      ]
     },
     "execution_count": 29,
     "metadata": {},
     "output_type": "execute_result"
    }
   ],
   "source": [
    "t = (1,2,3)\n",
    "t"
   ]
  },
  {
   "cell_type": "code",
   "execution_count": 30,
   "id": "86624ca7",
   "metadata": {},
   "outputs": [
    {
     "data": {
      "text/plain": [
       "set"
      ]
     },
     "execution_count": 30,
     "metadata": {},
     "output_type": "execute_result"
    }
   ],
   "source": [
    "set1 = set()\n",
    "set2 = set()\n",
    "set1.add(1)\n",
    "set1.add(1)\n",
    "set1.add(2)\n",
    "set"
   ]
  },
  {
   "cell_type": "code",
   "execution_count": 31,
   "id": "4e4fb71d",
   "metadata": {},
   "outputs": [
    {
     "ename": "TypeError",
     "evalue": "unhashable type: 'set'",
     "output_type": "error",
     "traceback": [
      "\u001b[1;31m---------------------------------------------------------------------------\u001b[0m",
      "\u001b[1;31mTypeError\u001b[0m                                 Traceback (most recent call last)",
      "Cell \u001b[1;32mIn[31], line 1\u001b[0m\n\u001b[1;32m----> 1\u001b[0m \u001b[43mset1\u001b[49m\u001b[38;5;241;43m.\u001b[39;49m\u001b[43madd\u001b[49m\u001b[43m(\u001b[49m\u001b[43mset2\u001b[49m\u001b[43m)\u001b[49m\n",
      "\u001b[1;31mTypeError\u001b[0m: unhashable type: 'set'"
     ]
    }
   ],
   "source": [
    "set1.add(set2)"
   ]
  },
  {
   "cell_type": "code",
   "execution_count": 35,
   "id": "1015dd3a",
   "metadata": {},
   "outputs": [
    {
     "name": "stdout",
     "output_type": "stream",
     "text": [
      "Enter your number (1-100):50\n",
      "No. Smaller ...\n",
      "Enter your number (1-100):20\n",
      "No. Bigger ...\n",
      "Enter your number (1-100):35\n",
      "No. Bigger ...\n",
      "Enter your number (1-100):42\n",
      "No. Bigger ...\n",
      "Enter your number (1-100):46\n",
      "No. Bigger ...\n",
      "Enter your number (1-100):48\n",
      "Yeah. It is 48\n"
     ]
    }
   ],
   "source": [
    "#игра угадай число\n",
    "import random\n",
    "random.seed()\n",
    "a = random.randint(1,100)\n",
    "cnt = 0\n",
    "while cnt<10 :\n",
    "    b = int(input('Enter your number (1-100):'))\n",
    "    cnt += 1\n",
    "    if a > b :\n",
    "        print('No. Bigger ...')\n",
    "    elif a<b :\n",
    "        print('No. Smaller ...')\n",
    "    else:\n",
    "        break\n",
    "if a == b : \n",
    "    print(f'Yeah. It is {a}, {cnt} tries.')\n",
    "else:\n",
    "    print(f'No. It was {a}')\n",
    "    "
   ]
  },
  {
   "cell_type": "code",
   "execution_count": 36,
   "id": "1b45b23f",
   "metadata": {},
   "outputs": [
    {
     "data": {
      "text/plain": [
       "[]"
      ]
     },
     "execution_count": 36,
     "metadata": {},
     "output_type": "execute_result"
    }
   ],
   "source": [
    "import gc #сборщик мусора\n",
    "gc.garbage"
   ]
  },
  {
   "cell_type": "code",
   "execution_count": 37,
   "id": "1dc8d7ec",
   "metadata": {},
   "outputs": [
    {
     "data": {
      "text/plain": [
       "1551"
      ]
     },
     "execution_count": 37,
     "metadata": {},
     "output_type": "execute_result"
    }
   ],
   "source": [
    "gc.collect()"
   ]
  },
  {
   "cell_type": "code",
   "execution_count": 38,
   "id": "d492fa4f",
   "metadata": {},
   "outputs": [
    {
     "name": "stdout",
     "output_type": "stream",
     "text": [
      "  4           0 LOAD_GLOBAL              0 (print)\n",
      "              2 LOAD_CONST               1 ('hello world')\n",
      "              4 CALL_FUNCTION            1\n",
      "              6 POP_TOP\n",
      "              8 LOAD_CONST               0 (None)\n",
      "             10 RETURN_VALUE\n"
     ]
    }
   ],
   "source": [
    "import dis #дизассемблер\n",
    "\n",
    "def hello_world():\n",
    "    print('hello world')\n",
    "    \n",
    "dis.dis(hello_world)"
   ]
  },
  {
   "cell_type": "code",
   "execution_count": null,
   "id": "0ff29d43",
   "metadata": {},
   "outputs": [],
   "source": [
    "!python -m py_compile ./python/hello.py"
   ]
  },
  {
   "cell_type": "code",
   "execution_count": 39,
   "id": "219d7bd5",
   "metadata": {},
   "outputs": [
    {
     "ename": "SyntaxError",
     "evalue": "Missing parentheses in call to 'print'. Did you mean print(?)? (3088891877.py, line 1)",
     "output_type": "error",
     "traceback": [
      "\u001b[1;36m  Cell \u001b[1;32mIn[39], line 1\u001b[1;36m\u001b[0m\n\u001b[1;33m    print ?\u001b[0m\n\u001b[1;37m          ^\u001b[0m\n\u001b[1;31mSyntaxError\u001b[0m\u001b[1;31m:\u001b[0m Missing parentheses in call to 'print'. Did you mean print(?)?\n"
     ]
    }
   ],
   "source": [
    "print ?"
   ]
  },
  {
   "cell_type": "code",
   "execution_count": null,
   "id": "02b26537",
   "metadata": {},
   "outputs": [],
   "source": []
  }
 ],
 "metadata": {
  "kernelspec": {
   "display_name": "Python 3 (ipykernel)",
   "language": "python",
   "name": "python3"
  },
  "language_info": {
   "codemirror_mode": {
    "name": "ipython",
    "version": 3
   },
   "file_extension": ".py",
   "mimetype": "text/x-python",
   "name": "python",
   "nbconvert_exporter": "python",
   "pygments_lexer": "ipython3",
   "version": "3.9.13"
  }
 },
 "nbformat": 4,
 "nbformat_minor": 5
}
